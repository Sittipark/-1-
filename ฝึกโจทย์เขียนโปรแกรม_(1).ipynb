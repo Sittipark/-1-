{
  "nbformat": 4,
  "nbformat_minor": 0,
  "metadata": {
    "colab": {
      "provenance": [],
      "authorship_tag": "ABX9TyNNNyYsa8WbtMcToyTWBtdY",
      "include_colab_link": true
    },
    "kernelspec": {
      "name": "python3",
      "display_name": "Python 3"
    },
    "language_info": {
      "name": "python"
    }
  },
  "cells": [
    {
      "cell_type": "markdown",
      "metadata": {
        "id": "view-in-github",
        "colab_type": "text"
      },
      "source": [
        "<a href=\"https://colab.research.google.com/github/Sittipark/Practicing-Python-Programming-Problems-1-/blob/main/%E0%B8%9D%E0%B8%B6%E0%B8%81%E0%B9%82%E0%B8%88%E0%B8%97%E0%B8%A2%E0%B9%8C%E0%B9%80%E0%B8%82%E0%B8%B5%E0%B8%A2%E0%B8%99%E0%B9%82%E0%B8%9B%E0%B8%A3%E0%B9%81%E0%B8%81%E0%B8%A3%E0%B8%A1_(1).ipynb\" target=\"_parent\"><img src=\"https://colab.research.google.com/assets/colab-badge.svg\" alt=\"Open In Colab\"/></a>"
      ]
    },
    {
      "cell_type": "markdown",
      "source": [
        "## **Valid Parentheses**"
      ],
      "metadata": {
        "id": "0TWkBwk9eANV"
      }
    },
    {
      "cell_type": "code",
      "execution_count": null,
      "metadata": {
        "colab": {
          "base_uri": "https://localhost:8080/"
        },
        "id": "SrOKFER5dxEM",
        "outputId": "50b25eba-ab98-4db1-91ba-26e6758b8758"
      },
      "outputs": [
        {
          "output_type": "stream",
          "name": "stdout",
          "text": [
            "True\n",
            "True\n",
            "False\n",
            "False\n",
            "True\n"
          ]
        }
      ],
      "source": [
        "\"\"\"Valid Parentheses\"\"\"\n",
        "\n",
        "def is_valid_parentheses(s: str) -> bool:\n",
        "    # Dictionary to hold the pairs of matching parentheses\n",
        "    matching_brackets = {')': '(',\n",
        "                         ']': '[',\n",
        "                         '}': '{'}\n",
        "\n",
        "    # Stack to keep track of opening brackets\n",
        "    stack = []\n",
        "\n",
        "    # Traverse the string\n",
        "    for char in s:\n",
        "        if char in matching_brackets:\n",
        "            # Check if top of the stack matches the current closing bracket\n",
        "            top_element = stack.pop() if stack else '#'\n",
        "            if matching_brackets[char] != top_element:\n",
        "                return False\n",
        "        else:\n",
        "            # It's an opening bracket, push to stack\n",
        "            stack.append(char)\n",
        "\n",
        "    # If the stack is empty, all brackets were properly matched\n",
        "    return not stack\n",
        "\n",
        "# Test\n",
        "s1 = \"()\"\n",
        "s2 = \"()[]{}\"\n",
        "s3 = \"(]\"\n",
        "s4 = \"([)]\"\n",
        "s5 = \"{[]}\"\n",
        "\n",
        "print(is_valid_parentheses(s1))  # Output: True\n",
        "print(is_valid_parentheses(s2))  # Output: True\n",
        "print(is_valid_parentheses(s3))  # Output: False\n",
        "print(is_valid_parentheses(s4))  # Output: False\n",
        "print(is_valid_parentheses(s5))  # Output: True\n"
      ]
    },
    {
      "cell_type": "markdown",
      "source": [
        "## **Bubble Sort**\n",
        "\n"
      ],
      "metadata": {
        "id": "6SYvJA9be5Wp"
      }
    },
    {
      "cell_type": "code",
      "source": [
        "\"\"\"Bubble Sort\"\"\"\n",
        "\n",
        "def bubble_sort(arr):\n",
        "    n = len(arr)\n",
        "    for i in range(n):\n",
        "        # Last i elements are already in place\n",
        "        for j in range(0, n-i-1):\n",
        "            if arr[j] > arr[j+1]:\n",
        "                # Swap if the element found is greater than the next element\n",
        "                arr[j], arr[j+1] = arr[j+1], arr[j]\n",
        "    return arr\n",
        "\n",
        "# Example usage\n",
        "data = [64, 34, 25, 12, 22, 11, 90]\n",
        "print(bubble_sort(data))\n"
      ],
      "metadata": {
        "colab": {
          "base_uri": "https://localhost:8080/"
        },
        "id": "yrFcK-SfeK2V",
        "outputId": "a150bccf-88a9-47c4-f43c-e01817b0d9f9"
      },
      "execution_count": 7,
      "outputs": [
        {
          "output_type": "stream",
          "name": "stdout",
          "text": [
            "[11, 12, 22, 25, 34, 64, 90]\n"
          ]
        }
      ]
    }
  ]
}